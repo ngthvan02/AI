{
  "nbformat": 4,
  "nbformat_minor": 0,
  "metadata": {
    "colab": {
      "provenance": [],
      "mount_file_id": "1CXUsyBe8NcJ6yG4wjU-H3qiyFW22EMJS",
      "authorship_tag": "ABX9TyPKJuw9I/+/LbZ8jeV9FcSW",
      "include_colab_link": true
    },
    "kernelspec": {
      "name": "python3",
      "display_name": "Python 3"
    },
    "language_info": {
      "name": "python"
    }
  },
  "cells": [
    {
      "cell_type": "markdown",
      "metadata": {
        "id": "view-in-github",
        "colab_type": "text"
      },
      "source": [
        "<a href=\"https://colab.research.google.com/github/ngthvan02/AI/blob/main/DeepLearning.ipynb\" target=\"_parent\"><img src=\"https://colab.research.google.com/assets/colab-badge.svg\" alt=\"Open In Colab\"/></a>"
      ]
    },
    {
      "cell_type": "code",
      "execution_count": 2,
      "metadata": {
        "colab": {
          "base_uri": "https://localhost:8080/"
        },
        "id": "l-bgUMvrG-uc",
        "outputId": "4b6f92af-10d0-43ee-c472-ec95925eceac"
      },
      "outputs": [
        {
          "output_type": "stream",
          "name": "stdout",
          "text": [
            "Downloading data from https://storage.googleapis.com/tensorflow/tf-keras-datasets/train-labels-idx1-ubyte.gz\n",
            "29515/29515 [==============================] - 0s 0us/step\n",
            "Downloading data from https://storage.googleapis.com/tensorflow/tf-keras-datasets/train-images-idx3-ubyte.gz\n",
            "26421880/26421880 [==============================] - 1s 0us/step\n",
            "Downloading data from https://storage.googleapis.com/tensorflow/tf-keras-datasets/t10k-labels-idx1-ubyte.gz\n",
            "5148/5148 [==============================] - 0s 0us/step\n",
            "Downloading data from https://storage.googleapis.com/tensorflow/tf-keras-datasets/t10k-images-idx3-ubyte.gz\n",
            "4422102/4422102 [==============================] - 1s 0us/step\n"
          ]
        }
      ],
      "source": [
        "from keras.datasets import fashion_mnist\n",
        "\n",
        "(train_X, train_Y), (test_X, test_Y) = fashion_mnist.load_data()"
      ]
    },
    {
      "cell_type": "code",
      "source": [
        "print(train_X.shape)\n",
        "print(train_Y.shape)\n",
        "print(test_X.shape)\n",
        "print(test_Y.shape)"
      ],
      "metadata": {
        "colab": {
          "base_uri": "https://localhost:8080/"
        },
        "id": "R9IAkUo1G_Zy",
        "outputId": "50950cd4-bd96-4bab-8856-d2006896613f"
      },
      "execution_count": 3,
      "outputs": [
        {
          "output_type": "stream",
          "name": "stdout",
          "text": [
            "(60000, 28, 28)\n",
            "(60000,)\n",
            "(10000, 28, 28)\n",
            "(10000,)\n"
          ]
        }
      ]
    },
    {
      "cell_type": "code",
      "source": [
        "import matplotlib.pyplot as plt\n",
        "\n",
        "plt.figure(figsize = [10,10])\n",
        "plt.subplot(121) #tuong duong (1,2,1)\n",
        "plt.imshow(train_X[0], cmap = 'gray')\n",
        "plt.title('So :{}'.format(train_Y[0]))\n",
        "\n",
        "plt.subplot(122) #tuong duong (1,2,2)\n",
        "plt.imshow(train_X[100], cmap = 'gray')\n",
        "plt.title('So :{}'.format(train_Y[100]))"
      ],
      "metadata": {
        "colab": {
          "base_uri": "https://localhost:8080/",
          "height": 452
        },
        "id": "JgIAiGzIHBP_",
        "outputId": "f32bef4b-24f7-48c6-bb7a-8d5f9f9cce55"
      },
      "execution_count": 4,
      "outputs": [
        {
          "output_type": "execute_result",
          "data": {
            "text/plain": [
              "Text(0.5, 1.0, 'So :8')"
            ]
          },
          "metadata": {},
          "execution_count": 4
        },
        {
          "output_type": "display_data",
          "data": {
            "text/plain": [
              "<Figure size 1000x1000 with 2 Axes>"
            ],
            "image/png": "[encoded data removed]"
          },
          "metadata": {}
        }
      ]
    },
    {
      "cell_type": "code",
      "source": [
        "#reshape\n",
        "train_X = train_X.reshape(60000, 28, 28, 1) # 1 la 1 kenh\n",
        "test_X = test_X.reshape(10000, 28, 28, 1)\n",
        "\n",
        "print(train_X.shape)\n",
        "print(test_X.shape)\n",
        "\n",
        "train_X = train_X.astype('float32')\n",
        "train_X = train_X/255"
      ],
      "metadata": {
        "colab": {
          "base_uri": "https://localhost:8080/"
        },
        "id": "8M0O_6tQHE3-",
        "outputId": "96fca22a-3930-4bf9-af86-d89d059874fb"
      },
      "execution_count": 5,
      "outputs": [
        {
          "output_type": "stream",
          "name": "stdout",
          "text": [
            "(60000, 28, 28, 1)\n",
            "(10000, 28, 28, 1)\n"
          ]
        }
      ]
    },
    {
      "cell_type": "code",
      "source": [
        "from keras.utils import to_categorical #chuyen 1 vector sang 1 mang binary\n",
        "\n",
        "train_Y = to_categorical(train_Y)\n",
        "test_Y = to_categorical(test_Y)"
      ],
      "metadata": {
        "id": "eXBNn4GhHFYf"
      },
      "execution_count": 6,
      "outputs": []
    },
    {
      "cell_type": "code",
      "source": [
        "#Tao mo hinh\n",
        "from keras.models import Sequential, Model\n",
        "from keras import Input\n",
        "from keras.layers import Dense, Flatten, Dropout, Conv2D, MaxPooling2D, Normalization\n",
        "from keras.optimizers import Adam\n",
        "\n",
        "batch_size = 64 #lo^ hoc\n",
        "epochs = 20\n",
        "classes = 10 #phan ra 10 loai (lop)"
      ],
      "metadata": {
        "id": "7Y_SPWaiHHBo"
      },
      "execution_count": 7,
      "outputs": []
    },
    {
      "cell_type": "code",
      "source": [
        "#Tao mo hinh\n",
        "from keras.models import Sequential, Model\n",
        "from keras import Input\n",
        "from keras.layers import Dense, Flatten, Dropout, Conv2D, MaxPooling2D, Normalization\n",
        "from keras.optimizers import Adam\n",
        "\n",
        "batch_size = 64 #lo^ hoc\n",
        "epochs = 20\n",
        "classes = 10 #phan ra 10 loai (lop)"
      ],
      "metadata": {
        "id": "PQ9MYvKwHSvz"
      },
      "execution_count": 8,
      "outputs": []
    },
    {
      "cell_type": "code",
      "source": [
        "from keras.layers.attention.multi_head_attention import activation\n",
        "from keras.layers import Conv2D\n",
        "from keras.models import Sequential\n",
        "\n",
        "model = Sequential()\n",
        "model.add(Conv2D(32, kernel_size=(3,3), activation='linear', input_shape=(28,28,1), padding='same'))"
      ],
      "metadata": {
        "id": "NcUJeFX2HVL7"
      },
      "execution_count": 9,
      "outputs": []
    },
    {
      "cell_type": "code",
      "source": [
        "from keras.layers import Conv2D, MaxPooling2D, LeakyReLU\n",
        "from keras.models import Sequential\n",
        "\n",
        "model = Sequential()\n",
        "\n",
        "#Bo 32\n",
        "model.add((Conv2D(32, kernel_size = (3,3), activation = 'linear', input_shape = (28, 28, 1), padding = 'same'))) #32 so lan tich chap, bo filter 3,3, padding same la tich chap xong kich thuoc van nhu ban dau\n",
        "model.add(LeakyReLU(alpha = 0.1)) #layer 1 (lop tich chap)\n",
        "model.add(MaxPooling2D((2,2), padding = 'same')) #layer 2 (maxpooling)\n",
        "\n",
        "#Bo 64\n",
        "model.add(Conv2D(64, (3,3), activation = 'linear', padding = 'same'))\n",
        "model.add(LeakyReLU(alpha = 0.1))\n",
        "model.add(MaxPooling2D((2,2), padding = 'same'))\n",
        "\n",
        "#Bo 128\n",
        "model.add(Conv2D(128, (3,3), activation = 'linear', padding = 'same'))\n",
        "model.add(LeakyReLU(alpha = 0.1))\n",
        "model.add(MaxPooling2D((2,2), padding = 'same'))"
      ],
      "metadata": {
        "id": "rF9iTr67HZP6"
      },
      "execution_count": 10,
      "outputs": []
    },
    {
      "cell_type": "code",
      "source": [
        "from keras.backend import categorical_crossentropy\n",
        "#Dua vao ANN\n",
        "model.add(Flatten()) #tấm ảnh phẳng\n",
        "model.add(Dense(128, activation = 'linear')) #lớp ẩn có 128 lớp\n",
        "model.add(LeakyReLU(alpha = 0.1))\n",
        "model.add(Dense(classes, activation = 'softmax')) #output ra 10 lớp (classes = 10 ở trên)"
      ],
      "metadata": {
        "id": "4y-tS16eHkkJ"
      },
      "execution_count": 11,
      "outputs": []
    },
    {
      "cell_type": "code",
      "source": [
        "from keras.losses import categorical_crossentropy\n",
        "\n",
        "model.compile(loss = categorical_crossentropy, optimizer = Adam(), metrics = ['accuracy'])\n",
        "model.summary()\n"
      ],
      "metadata": {
        "colab": {
          "base_uri": "https://localhost:8080/"
        },
        "id": "5i5I1Zq1Hk3u",
        "outputId": "33a87e4d-fb1d-4884-9e21-0f1bb02d1854"
      },
      "execution_count": 12,
      "outputs": [
        {
          "output_type": "stream",
          "name": "stdout",
          "text": [
            "Model: \"sequential_1\"\n",
            "_________________________________________________________________\n",
            " Layer (type)                Output Shape              Param #   \n",
            "=================================================================\n",
            " conv2d_1 (Conv2D)           (None, 28, 28, 32)        320       \n",
            "                                                                 \n",
            " leaky_re_lu (LeakyReLU)     (None, 28, 28, 32)        0         \n",
            "                                                                 \n",
            " max_pooling2d (MaxPooling2D  (None, 14, 14, 32)       0         \n",
            " )                                                               \n",
            "                                                                 \n",
            " conv2d_2 (Conv2D)           (None, 14, 14, 64)        18496     \n",
            "                                                                 \n",
            " leaky_re_lu_1 (LeakyReLU)   (None, 14, 14, 64)        0         \n",
            "                                                                 \n",
            " max_pooling2d_1 (MaxPooling  (None, 7, 7, 64)         0         \n",
            " 2D)                                                             \n",
            "                                                                 \n",
            " conv2d_3 (Conv2D)           (None, 7, 7, 128)         73856     \n",
            "                                                                 \n",
            " leaky_re_lu_2 (LeakyReLU)   (None, 7, 7, 128)         0         \n",
            "                                                                 \n",
            " max_pooling2d_2 (MaxPooling  (None, 4, 4, 128)        0         \n",
            " 2D)                                                             \n",
            "                                                                 \n",
            " flatten (Flatten)           (None, 2048)              0         \n",
            "                                                                 \n",
            " dense (Dense)               (None, 128)               262272    \n",
            "                                                                 \n",
            " leaky_re_lu_3 (LeakyReLU)   (None, 128)               0         \n",
            "                                                                 \n",
            " dense_1 (Dense)             (None, 10)                1290      \n",
            "                                                                 \n",
            "=================================================================\n",
            "Total params: 356,234\n",
            "Trainable params: 356,234\n",
            "Non-trainable params: 0\n",
            "_________________________________________________________________\n"
          ]
        }
      ]
    },
    {
      "cell_type": "code",
      "source": [
        "#train\n",
        "train = model.fit(train_X, train_Y, batch_size = batch_size, epochs = epochs, verbose = 1)"
      ],
      "metadata": {
        "colab": {
          "base_uri": "https://localhost:8080/"
        },
        "id": "ttj-_KqOHmfJ",
        "outputId": "be08d233-0c21-4561-a87a-09a650ebde22"
      },
      "execution_count": 13,
      "outputs": [
        {
          "output_type": "stream",
          "name": "stdout",
          "text": [
            "Epoch 1/20\n",
            "938/938 [==============================] - 91s 96ms/step - loss: 0.4334 - accuracy: 0.8424\n",
            "Epoch 2/20\n",
            "938/938 [==============================] - 88s 93ms/step - loss: 0.2712 - accuracy: 0.9011\n",
            "Epoch 3/20\n",
            "938/938 [==============================] - 88s 94ms/step - loss: 0.2248 - accuracy: 0.9169\n",
            "Epoch 4/20\n",
            "938/938 [==============================] - 88s 94ms/step - loss: 0.1954 - accuracy: 0.9280\n",
            "Epoch 5/20\n",
            "938/938 [==============================] - 89s 94ms/step - loss: 0.1699 - accuracy: 0.9371\n",
            "Epoch 6/20\n",
            "938/938 [==============================] - 92s 98ms/step - loss: 0.1480 - accuracy: 0.9445\n",
            "Epoch 7/20\n",
            "938/938 [==============================] - 91s 97ms/step - loss: 0.1304 - accuracy: 0.9516\n",
            "Epoch 8/20\n",
            "938/938 [==============================] - 90s 96ms/step - loss: 0.1104 - accuracy: 0.9575\n",
            "Epoch 9/20\n",
            "938/938 [==============================] - 91s 97ms/step - loss: 0.0936 - accuracy: 0.9641\n",
            "Epoch 10/20\n",
            "938/938 [==============================] - 91s 97ms/step - loss: 0.0833 - accuracy: 0.9683\n",
            "Epoch 11/20\n",
            "938/938 [==============================] - 92s 98ms/step - loss: 0.0666 - accuracy: 0.9753\n",
            "Epoch 12/20\n",
            "938/938 [==============================] - 92s 98ms/step - loss: 0.0616 - accuracy: 0.9760\n",
            "Epoch 13/20\n",
            "938/938 [==============================] - 94s 100ms/step - loss: 0.0542 - accuracy: 0.9791\n",
            "Epoch 14/20\n",
            "938/938 [==============================] - 91s 97ms/step - loss: 0.0480 - accuracy: 0.9817\n",
            "Epoch 15/20\n",
            "938/938 [==============================] - 92s 98ms/step - loss: 0.0435 - accuracy: 0.9837\n",
            "Epoch 16/20\n",
            "938/938 [==============================] - 92s 98ms/step - loss: 0.0411 - accuracy: 0.9841\n",
            "Epoch 17/20\n",
            "938/938 [==============================] - 92s 98ms/step - loss: 0.0342 - accuracy: 0.9875\n",
            "Epoch 18/20\n",
            "938/938 [==============================] - 89s 95ms/step - loss: 0.0341 - accuracy: 0.9879\n",
            "Epoch 19/20\n",
            "938/938 [==============================] - 91s 97ms/step - loss: 0.0313 - accuracy: 0.9889\n",
            "Epoch 20/20\n",
            "938/938 [==============================] - 91s 97ms/step - loss: 0.0283 - accuracy: 0.9899\n"
          ]
        }
      ]
    },
    {
      "cell_type": "code",
      "source": [
        "model.save('/content/drive/MyDrive/deeplearning/deeplearning.h5')"
      ],
      "metadata": {
        "id": "6aE-ad9THrHM"
      },
      "execution_count": 14,
      "outputs": []
    },
    {
      "cell_type": "code",
      "source": [
        "eval=model.evaluate(test_X,test_Y,verbose=0)\n",
        "print('Test loss:',eval[0])\n",
        "print('Test accuracy:',eval[1])"
      ],
      "metadata": {
        "colab": {
          "base_uri": "https://localhost:8080/"
        },
        "id": "0ocLC59bRlt_",
        "outputId": "3987193d-6616-49ab-9dde-fc3c4429bf16"
      },
      "execution_count": 15,
      "outputs": [
        {
          "output_type": "stream",
          "name": "stdout",
          "text": [
            "Test loss: 132.60491943359375\n",
            "Test accuracy: 0.8597000241279602\n"
          ]
        }
      ]
    },
    {
      "cell_type": "code",
      "source": [
        "accuracy=train.history['accuracy']\n",
        "val_accuracy=train.history['loss']"
      ],
      "metadata": {
        "id": "yPvAPwfzSBSN"
      },
      "execution_count": 17,
      "outputs": []
    },
    {
      "cell_type": "code",
      "source": [
        "epochs = range(len(accuracy))\n",
        "plt.plot(epochs, accuracy, 'bo', label='Train Accuracy')\n",
        "plt.plot(epochs, val_accuracy, 'r', label = 'Loss')\n",
        "plt.title(\"Training Accuracy and Loss\")"
      ],
      "metadata": {
        "colab": {
          "base_uri": "https://localhost:8080/",
          "height": 469
        },
        "id": "kJq4q-Gh3huI",
        "outputId": "473a791d-5df0-478c-9fd7-6c5abc1a2021"
      },
      "execution_count": 21,
      "outputs": [
        {
          "output_type": "execute_result",
          "data": {
            "text/plain": [
              "Text(0.5, 1.0, 'Training Accuracy and Loss')"
            ]
          },
          "metadata": {},
          "execution_count": 21
        },
        {
          "output_type": "display_data",
          "data": {
            "text/plain": [
              "<Figure size 640x480 with 1 Axes>"
            ],
            "image/png": "[encoded data removed]"
          },
          "metadata": {}
        }
      ]
    }
  ]
}