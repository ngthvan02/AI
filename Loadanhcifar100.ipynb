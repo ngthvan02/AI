{
  "nbformat": 4,
  "nbformat_minor": 0,
  "metadata": {
    "colab": {
      "provenance": [],
      "mount_file_id": "1OaEYDOsxs1FXeiXvh-EBHzEekqcd_JPr",
      "authorship_tag": "ABX9TyN75sUEUHyiQm/JWNNJohfV",
      "include_colab_link": true
    },
    "kernelspec": {
      "name": "python3",
      "display_name": "Python 3"
    },
    "language_info": {
      "name": "python"
    }
  },
  "cells": [
    {
      "cell_type": "markdown",
      "metadata": {
        "id": "view-in-github",
        "colab_type": "text"
      },
      "source": [
        "<a href=\"https://colab.research.google.com/github/ngthvan02/AI/blob/main/Loadanhcifar100.ipynb\" target=\"_parent\"><img src=\"https://colab.research.google.com/assets/colab-badge.svg\" alt=\"Open In Colab\"/></a>"
      ]
    },
    {
      "cell_type": "code",
      "execution_count": 1,
      "metadata": {
        "colab": {
          "base_uri": "https://localhost:8080/",
          "height": 447
        },
        "id": "Bq23D8Q2BvtP",
        "outputId": "e178df0b-ef7d-434e-f750-993d176e4aed"
      },
      "outputs": [
        {
          "output_type": "execute_result",
          "data": {
            "text/plain": [
              "<matplotlib.image.AxesImage at 0x7f4a83f4e220>"
            ]
          },
          "metadata": {},
          "execution_count": 1
        },
        {
          "output_type": "display_data",
          "data": {
            "text/plain": [
              "<Figure size 640x480 with 1 Axes>"
            ],
            "image/png": "[encoded data removed]"
          },
          "metadata": {}
        }
      ],
      "source": [
        "import matplotlib.pyplot as plt\n",
        "from keras.utils import load_img,img_to_array\n",
        "import os\n",
        "\n",
        "import tensorflow as tf\n",
        "from tensorflow import keras\n",
        "img=load_img('/content/drive/MyDrive/Anh/WIN_20230314_15_37_27_Pro.jpg',target_size=(32,32))\n",
        "plt.imshow(img)\n"
      ]
    },
    {
      "cell_type": "markdown",
      "source": [],
      "metadata": {
        "id": "bcbZnZsqMHnd"
      }
    },
    {
      "cell_type": "code",
      "source": [
        "model100 = tf.keras.models.load_model('/content/drive/MyDrive/Anh/model100.h5')\n",
        "from keras import Model\n",
        "import numpy as np\n",
        "img=img_to_array(img)\n",
        "img=img.reshape(1,32*32*3)\n",
        "img=img.astype('float32')\n",
        "img=img/255\n",
        "np.argmax(model100.predict(img),axis=1)\n"
      ],
      "metadata": {
        "colab": {
          "base_uri": "https://localhost:8080/"
        },
        "id": "Hyi_7-T1Ffgm",
        "outputId": "c0c151d4-3d4c-4b6d-fe1a-25ce493facef"
      },
      "execution_count": 2,
      "outputs": [
        {
          "output_type": "stream",
          "name": "stdout",
          "text": [
            "1/1 [==============================] - 0s 155ms/step\n"
          ]
        },
        {
          "output_type": "execute_result",
          "data": {
            "text/plain": [
              "array([98])"
            ]
          },
          "metadata": {},
          "execution_count": 2
        }
      ]
    }
  ]
}