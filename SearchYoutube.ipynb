{
  "nbformat": 4,
  "nbformat_minor": 0,
  "metadata": {
    "colab": {
      "provenance": [],
      "authorship_tag": "ABX9TyM2dUrbqoOwjYqkq4Us/h40",
      "include_colab_link": true
    },
    "kernelspec": {
      "name": "python3",
      "display_name": "Python 3"
    },
    "language_info": {
      "name": "python"
    }
  },
  "cells": [
    {
      "cell_type": "markdown",
      "metadata": {
        "id": "view-in-github",
        "colab_type": "text"
      },
      "source": [
        "<a href=\"https://colab.research.google.com/github/ngthvan02/AI/blob/main/SearchYoutube.ipynb\" target=\"_parent\"><img src=\"https://colab.research.google.com/assets/colab-badge.svg\" alt=\"Open In Colab\"/></a>"
      ]
    },
    {
      "cell_type": "code",
      "execution_count": 1,
      "metadata": {
        "colab": {
          "base_uri": "https://localhost:8080/"
        },
        "id": "qCrNAOjsCqC-",
        "outputId": "971934fe-5068-44f5-fb0c-b07a1774309a"
      },
      "outputs": [
        {
          "output_type": "stream",
          "name": "stdout",
          "text": [
            "Looking in indexes: https://pypi.org/simple, https://us-python.pkg.dev/colab-wheels/public/simple/\n",
            "Collecting youtube-search\n",
            "  Downloading youtube_search-2.1.2-py3-none-any.whl (3.4 kB)\n",
            "Requirement already satisfied: requests in /usr/local/lib/python3.10/dist-packages (from youtube-search) (2.27.1)\n",
            "Requirement already satisfied: urllib3<1.27,>=1.21.1 in /usr/local/lib/python3.10/dist-packages (from requests->youtube-search) (1.26.15)\n",
            "Requirement already satisfied: certifi>=2017.4.17 in /usr/local/lib/python3.10/dist-packages (from requests->youtube-search) (2022.12.7)\n",
            "Requirement already satisfied: charset-normalizer~=2.0.0 in /usr/local/lib/python3.10/dist-packages (from requests->youtube-search) (2.0.12)\n",
            "Requirement already satisfied: idna<4,>=2.5 in /usr/local/lib/python3.10/dist-packages (from requests->youtube-search) (3.4)\n",
            "Installing collected packages: youtube-search\n",
            "Successfully installed youtube-search-2.1.2\n"
          ]
        }
      ],
      "source": [
        "pip install youtube-search\n"
      ]
    },
    {
      "cell_type": "code",
      "source": [
        "from youtube_search import YoutubeSearch\n",
        "import webbrowser\n",
        "mysong= input('Nhap vao ten bai hat:')\n",
        "result= YoutubeSearch(mysong,max_results=10).to_dict()\n",
        "print(result)\n",
        "\n"
      ],
      "metadata": {
        "colab": {
          "base_uri": "https://localhost:8080/"
        },
        "id": "jFLAoc0XCr7G",
        "outputId": "c8e5be27-fe73-4c9a-b485-d053ee9fc8de"
      },
      "execution_count": 2,
      "outputs": [
        {
          "output_type": "stream",
          "name": "stdout",
          "text": [
            "Nhap vao ten bai hat:Lang yen\n",
            "[{'id': 'ekYGOkz7o9o', 'thumbnails': ['https://i.ytimg.com/vi/ekYGOkz7o9o/hq720.jpg?sqp=-oaymwE9COgCEMoBSFryq4qpAy8IARUAAAAAGAElAADIQj0AgKJDeAHwAQH4Af4JgALQBYoCDAgAEAEYTCBlKGUwDw==&rs=AOn4CLDSGOu88AEOPWndFz0zycZze789-w', 'https://i.ytimg.com/vi/ekYGOkz7o9o/hq720.jpg?sqp=-oaymwExCNAFEJQDSFryq4qpAyMIARUAAIhCGAHwAQH4Af4JgALQBYoCDAgAEAEYTCBlKGUwDw==&rs=AOn4CLAid1cyaLj6-pB77FagHZcjdjCyow'], 'title': 'Lặng Yên - Bùi Anh Tuấn ft Ái Phương (Lyrics)', 'long_desc': None, 'channel': 'Mcf Aizen', 'duration': '4:48', 'views': '1,867,554 views', 'publish_time': '6 years ago', 'url_suffix': '/watch?v=ekYGOkz7o9o&pp=ygUITGFuZyB5ZW4%3D'}, {'id': 'yrlFv0-hkWE', 'thumbnails': ['https://i.ytimg.com/vi/yrlFv0-hkWE/hq720.jpg?sqp=-oaymwEjCOgCEMoBSFryq4qpAxUIARUAAAAAGAElAADIQj0AgKJDeAE=&rs=AOn4CLA0Ejl3yqiCw8d1Q8IAFjqMKWSrdw', 'https://i.ytimg.com/vi/yrlFv0-hkWE/hq720.jpg?sqp=-oaymwEXCNAFEJQDSFryq4qpAwkIARUAAIhCGAE=&rs=AOn4CLBaybSFxaS2WPi5K2e0gZ67QEqRGg'], 'title': 'Lặng Yên | Bùi Anh Tuấn ft Ái Phương - OST Lặng yên dưới vực sâu', 'long_desc': None, 'channel': 'VTV Giải Trí Official', 'duration': '4:54', 'views': '543,321 views', 'publish_time': '2 years ago', 'url_suffix': '/watch?v=yrlFv0-hkWE&pp=ygUITGFuZyB5ZW4%3D'}, {'id': 'YWActB0Uswk', 'thumbnails': ['https://i.ytimg.com/vi/YWActB0Uswk/hq720.jpg?sqp=-oaymwE9COgCEMoBSFryq4qpAy8IARUAAAAAGAElAADIQj0AgKJDeAHwAQH4Af4JgALQBYoCDAgAEAEYZSBTKEYwDw==&rs=AOn4CLCm4vBzB7YiGSYINf2VS2iSkpvXCA', 'https://i.ytimg.com/vi/YWActB0Uswk/hq720.jpg?sqp=-oaymwExCNAFEJQDSFryq4qpAyMIARUAAIhCGAHwAQH4Af4JgALQBYoCDAgAEAEYZSBTKEYwDw==&rs=AOn4CLCGoWdyBcHI9Jnnbb3-9TEIVdFRTQ'], 'title': '20170901 Lặng Yên - Bùi Anh Tuấn @ Trixie (Re-up)', 'long_desc': None, 'channel': 'Precious Time', 'duration': '5:36', 'views': '3,160,309 views', 'publish_time': '4 years ago', 'url_suffix': '/watch?v=YWActB0Uswk&pp=ygUITGFuZyB5ZW4%3D'}, {'id': 'YdBF4fywbZs', 'thumbnails': ['https://i.ytimg.com/vi/YdBF4fywbZs/hq720.jpg?sqp=-oaymwEjCOgCEMoBSFryq4qpAxUIARUAAAAAGAElAADIQj0AgKJDeAE=&rs=AOn4CLDr4OnW1yWoYXMBfpDcS-vFFW9-zg', 'https://i.ytimg.com/vi/YdBF4fywbZs/hq720.jpg?sqp=-oaymwEXCNAFEJQDSFryq4qpAwkIARUAAIhCGAE=&rs=AOn4CLAlsTGSk0A_zYZNJ6FHnpGLShvDZA'], 'title': 'Lặng yên - Bùi Anh Tuấn ft Ái Phương [LIVE] in CSGM 2017', 'long_desc': None, 'channel': 'Ninh Tran', 'duration': '4:15', 'views': '1,122,665 views', 'publish_time': '5 years ago', 'url_suffix': '/watch?v=YdBF4fywbZs&pp=ygUITGFuZyB5ZW4%3D'}, {'id': 'U0Sm41aCvDs', 'thumbnails': ['https://i.ytimg.com/vi/U0Sm41aCvDs/hqdefault.jpg?sqp=-oaymwEjCOADEI4CSFryq4qpAxUIARUAAAAAGAElAADIQj0AgKJDeAE=&rs=AOn4CLDqty-FApZcNT6S0YhikIcR4yH3bQ'], 'title': 'Lặng Yên (OST) Bùi Anh Tuấn ft Ái Phương [ 1 Hour]', 'long_desc': None, 'channel': 'OneHourMusic', 'duration': '1:02:28', 'views': '508,412 views', 'publish_time': '6 years ago', 'url_suffix': '/watch?v=U0Sm41aCvDs&pp=ygUITGFuZyB5ZW4%3D'}, {'id': '3t7hxp9WdR4', 'thumbnails': ['https://i.ytimg.com/vi/3t7hxp9WdR4/hq720.jpg?sqp=-oaymwEjCOgCEMoBSFryq4qpAxUIARUAAAAAGAElAADIQj0AgKJDeAE=&rs=AOn4CLC71nAIThus9KXT1hc_dm_RCTuymg', 'https://i.ytimg.com/vi/3t7hxp9WdR4/hq720.jpg?sqp=-oaymwEXCNAFEJQDSFryq4qpAwkIARUAAIhCGAE=&rs=AOn4CLAJ2yAfdTydiYbqiN6TpMAVZCbuIQ'], 'title': 'Lặng Yên | Bài Hát Chia Tay Buồn Nhất | Thùy Chi | Official MV Lyric', 'long_desc': None, 'channel': 'THÙY CHI OFFICIAL', 'duration': '5:28', 'views': '874,074 views', 'publish_time': '4 years ago', 'url_suffix': '/watch?v=3t7hxp9WdR4&pp=ygUITGFuZyB5ZW4%3D'}, {'id': 'QgJuOtmJM_A', 'thumbnails': ['https://i.ytimg.com/vi/QgJuOtmJM_A/hq720.jpg?sqp=-oaymwE9COgCEMoBSFryq4qpAy8IARUAAAAAGAElAADIQj0AgKJDeAHwAQH4Af4JgALQBYoCDAgAEAEYZSBfKE0wDw==&rs=AOn4CLAalJ-085D4Qs-kZ9dULCXHIKz4jw', 'https://i.ytimg.com/vi/QgJuOtmJM_A/hq720.jpg?sqp=-oaymwExCNAFEJQDSFryq4qpAyMIARUAAIhCGAHwAQH4Af4JgALQBYoCDAgAEAEYZSBfKE0wDw==&rs=AOn4CLC_r9JJ-zM9ZDCwIb4NhMpzd2G0Gw'], 'title': 'CA KHO LANG YEN DEMO', 'long_desc': None, 'channel': 'VG TCVN', 'duration': '5:02', 'views': '10 views', 'publish_time': '6 days ago', 'url_suffix': '/watch?v=QgJuOtmJM_A&pp=ygUITGFuZyB5ZW4%3D'}, {'id': 'v1Ucea4RCmE', 'thumbnails': ['https://i.ytimg.com/vi/v1Ucea4RCmE/hq720.jpg?sqp=-oaymwEjCOgCEMoBSFryq4qpAxUIARUAAAAAGAElAADIQj0AgKJDeAE=&rs=AOn4CLDaf2BvAY0Q1HT55MqkQPrM2C7gqA', 'https://i.ytimg.com/vi/v1Ucea4RCmE/hq720.jpg?sqp=-oaymwEXCNAFEJQDSFryq4qpAwkIARUAAIhCGAE=&rs=AOn4CLCB2uepP-P-v3muCcz47OMF0TBPgQ'], 'title': 'Lặng Yên (ft. Ái Phương) | Lang Thang Hát Cùng Bùi Anh Tuấn #8', 'long_desc': None, 'channel': 'Bùi Anh Tuấn', 'duration': '7:26', 'views': '1,309,708 views', 'publish_time': '4 years ago', 'url_suffix': '/watch?v=v1Ucea4RCmE&pp=ygUITGFuZyB5ZW4%3D'}, {'id': 'Wk-q06kOeVY', 'thumbnails': ['https://i.ytimg.com/vi/Wk-q06kOeVY/hq720.jpg?sqp=-oaymwE9COgCEMoBSFryq4qpAy8IARUAAAAAGAElAADIQj0AgKJDeAHwAQH4Af4JgALQBYoCDAgAEAEYOyBLKHIwDw==&rs=AOn4CLBnU7pHJK7Cu-YcQgqSvENcfq_Bvg', 'https://i.ytimg.com/vi/Wk-q06kOeVY/hq720.jpg?sqp=-oaymwExCNAFEJQDSFryq4qpAyMIARUAAIhCGAHwAQH4Af4JgALQBYoCDAgAEAEYOyBLKHIwDw==&rs=AOn4CLAG2aRublrVkccJiyRRIv3zhrJHQQ'], 'title': '220212 Lặng yên - Bùi Anh Tuấn @ Lululola', 'long_desc': None, 'channel': 'Precious Time', 'duration': '5:10', 'views': '64,104 views', 'publish_time': '1 year ago', 'url_suffix': '/watch?v=Wk-q06kOeVY&pp=ygUITGFuZyB5ZW4%3D'}, {'id': 'NyrpD6LQRLI', 'thumbnails': ['https://i.ytimg.com/vi/NyrpD6LQRLI/hq720.jpg?sqp=-oaymwE9COgCEMoBSFryq4qpAy8IARUAAAAAGAElAADIQj0AgKJDeAHwAQH4AdQGgALgA4oCDAgAEAEYZSBIKFgwDw==&rs=AOn4CLC-_dDsQt_nyfJay6Hbor0VmfuqFw', 'https://i.ytimg.com/vi/NyrpD6LQRLI/hq720.jpg?sqp=-oaymwExCNAFEJQDSFryq4qpAyMIARUAAIhCGAHwAQH4AdQGgALgA4oCDAgAEAEYZSBIKFgwDw==&rs=AOn4CLACseohl-ieWkrRj_nePsAAw2FY_A'], 'title': 'Lặng Yên ( Lyric Video ) ‣ Bùi Anh Tuấn ft. Ái Phương', 'long_desc': None, 'channel': 'Mind Official', 'duration': '4:38', 'views': '112,192 views', 'publish_time': '2 years ago', 'url_suffix': '/watch?v=NyrpD6LQRLI&pp=ygUITGFuZyB5ZW4%3D'}]\n"
          ]
        }
      ]
    },
    {
      "cell_type": "code",
      "source": [
        "print(result[0][\"url_suffix\"])\n",
        "url='http://www.yotube.com'+result[0]['url_suffix']\n",
        "print(url)\n",
        "webbrowser.open(url)\n",
        "                                  "
      ],
      "metadata": {
        "colab": {
          "base_uri": "https://localhost:8080/"
        },
        "id": "LPCm6Oi5DJKn",
        "outputId": "7066c13f-2e6b-49fd-ce97-c5b09d689b21"
      },
      "execution_count": 3,
      "outputs": [
        {
          "output_type": "stream",
          "name": "stdout",
          "text": [
            "/watch?v=ekYGOkz7o9o&pp=ygUITGFuZyB5ZW4%3D\n",
            "http://www.yotube.com/watch?v=ekYGOkz7o9o&pp=ygUITGFuZyB5ZW4%3D\n"
          ]
        },
        {
          "output_type": "execute_result",
          "data": {
            "text/plain": [
              "False"
            ]
          },
          "metadata": {},
          "execution_count": 3
        }
      ]
    },
    {
      "cell_type": "code",
      "source": [
        "pip install openpyxl"
      ],
      "metadata": {
        "colab": {
          "base_uri": "https://localhost:8080/"
        },
        "id": "f_nBi0s5DVmE",
        "outputId": "1124645c-2a19-4042-f73b-1e23625fe9af"
      },
      "execution_count": 4,
      "outputs": [
        {
          "output_type": "stream",
          "name": "stdout",
          "text": [
            "Looking in indexes: https://pypi.org/simple, https://us-python.pkg.dev/colab-wheels/public/simple/\n",
            "Requirement already satisfied: openpyxl in /usr/local/lib/python3.10/dist-packages (3.0.10)\n",
            "Requirement already satisfied: et-xmlfile in /usr/local/lib/python3.10/dist-packages (from openpyxl) (1.1.0)\n"
          ]
        }
      ]
    },
    {
      "cell_type": "code",
      "source": [
        "from openpyxl import Workbook\n",
        "from youtube_search import YoutubeSearch\n",
        "import webbrowser\n",
        "data=Workbook()\n",
        "sheet=data.active\n",
        "mysong=input('xin moi ban chon bai hat:')\n",
        "result= YoutubeSearch(mysong,max_results=10).to_dict()\n",
        "for i in range(10):\n",
        "  print(result[i][\"title\"])\n",
        "  print(result[i]['url_suffix'])\n",
        "  url='http://www.youtube.com'+ result[0]['url_suffix']\n",
        "  print(url)\n",
        "  sheet['A'+ str(i+1)]=i+1\n",
        "  sheet['B'+ str(i+1)]=result[i]['title']\n",
        "  sheet['C'+ str(i+1)]=result[i]['url_suffix']\n",
        "  sheet['D'+ str(i+1)]=result[i]['views']\n",
        "\n",
        "\n",
        "\n"
      ],
      "metadata": {
        "colab": {
          "base_uri": "https://localhost:8080/"
        },
        "id": "2udU-69hDjNx",
        "outputId": "9ce12777-9548-4b13-843e-438e035a5fdd"
      },
      "execution_count": 5,
      "outputs": [
        {
          "output_type": "stream",
          "name": "stdout",
          "text": [
            "xin moi ban chon bai hat:the nights\n",
            "Avicii - The Nights\n",
            "/watch?v=UtF6Jej8yb4&pp=ygUKdGhlIG5pZ2h0cw%3D%3D\n",
            "http://www.youtube.com/watch?v=UtF6Jej8yb4&pp=ygUKdGhlIG5pZ2h0cw%3D%3D\n",
            "Avicii - The Nights (Lyrics) 🎵1 Hour\n",
            "/watch?v=d-o3AU8Z1YQ&pp=ygUKdGhlIG5pZ2h0cw%3D%3D\n",
            "http://www.youtube.com/watch?v=UtF6Jej8yb4&pp=ygUKdGhlIG5pZ2h0cw%3D%3D\n",
            "Avicii - The Nights (Audio)\n",
            "/watch?v=XmIgg9De9hY&pp=ygUKdGhlIG5pZ2h0cw%3D%3D\n",
            "http://www.youtube.com/watch?v=UtF6Jej8yb4&pp=ygUKdGhlIG5pZ2h0cw%3D%3D\n",
            "Avicii - The Nights (Lyrics) \"my father told me\"\n",
            "/watch?v=H78YW7ycuwI&pp=ygUKdGhlIG5pZ2h0cw%3D%3D\n",
            "http://www.youtube.com/watch?v=UtF6Jej8yb4&pp=ygUKdGhlIG5pZ2h0cw%3D%3D\n",
            "Avicii - The Nights (Official Music Video)\n",
            "/watch?v=0AxgZBZbMkQ&pp=ygUKdGhlIG5pZ2h0cw%3D%3D\n",
            "http://www.youtube.com/watch?v=UtF6Jej8yb4&pp=ygUKdGhlIG5pZ2h0cw%3D%3D\n",
            "MESSI & RONALDO - THE NIGHTS // AVICII\n",
            "/watch?v=sRQ3kbeK3nM&pp=ygUKdGhlIG5pZ2h0cw%3D%3D\n",
            "http://www.youtube.com/watch?v=UtF6Jej8yb4&pp=ygUKdGhlIG5pZ2h0cw%3D%3D\n",
            "Avicii - The Nights (Lyrics)\n",
            "/watch?v=9z1hgcdWPPc&pp=ygUKdGhlIG5pZ2h0cw%3D%3D\n",
            "http://www.youtube.com/watch?v=UtF6Jej8yb4&pp=ygUKdGhlIG5pZ2h0cw%3D%3D\n",
            "Avicii - The Nights (Lyrics)\n",
            "/watch?v=aG3ZuJ2rsbM&pp=ygUKdGhlIG5pZ2h0cw%3D%3D\n",
            "http://www.youtube.com/watch?v=UtF6Jej8yb4&pp=ygUKdGhlIG5pZ2h0cw%3D%3D\n",
            "In the Night Garden 210 - Too Much Pinky Ponk Juice Videos for Kids | Full Episodes | Season 2\n",
            "/watch?v=MDbQ9LqOWZw&pp=ygUKdGhlIG5pZ2h0cw%3D%3D\n",
            "http://www.youtube.com/watch?v=UtF6Jej8yb4&pp=ygUKdGhlIG5pZ2h0cw%3D%3D\n",
            "Avicii Tribute Concert - The Nights (Live Vocals by Nick Furlong)\n",
            "/watch?v=HxEnEQTazgw&pp=ygUKdGhlIG5pZ2h0cw%3D%3D\n",
            "http://www.youtube.com/watch?v=UtF6Jej8yb4&pp=ygUKdGhlIG5pZ2h0cw%3D%3D\n"
          ]
        }
      ]
    },
    {
      "cell_type": "code",
      "source": [],
      "metadata": {
        "id": "5YE2JWIpDohY"
      },
      "execution_count": null,
      "outputs": []
    }
  ]
}