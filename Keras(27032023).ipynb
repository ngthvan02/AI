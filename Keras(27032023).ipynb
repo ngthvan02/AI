{
  "nbformat": 4,
  "nbformat_minor": 0,
  "metadata": {
    "colab": {
      "provenance": [],
      "authorship_tag": "ABX9TyPBKJ5u1LVoOCjOB8lSeVrI",
      "include_colab_link": true
    },
    "kernelspec": {
      "name": "python3",
      "display_name": "Python 3"
    },
    "language_info": {
      "name": "python"
    }
  },
  "cells": [
    {
      "cell_type": "markdown",
      "metadata": {
        "id": "view-in-github",
        "colab_type": "text"
      },
      "source": [
        "<a href=\"https://colab.research.google.com/github/ngthvan02/AI/blob/main/Keras(27032023).ipynb\" target=\"_parent\"><img src=\"https://colab.research.google.com/assets/colab-badge.svg\" alt=\"Open In Colab\"/></a>"
      ]
    },
    {
      "cell_type": "code",
      "execution_count": null,
      "metadata": {
        "id": "0stMUwnezli4"
      },
      "outputs": [],
      "source": [
        "from keras.datasets import mnist\n",
        "(train_images,train_labels),(test_images,test_labels)=mnist.load_data()"
      ]
    },
    {
      "cell_type": "code",
      "source": [
        "import matplotlib.pyplot as plt\n",
        "hinh=train_images[100]\n",
        "plt.imshow(hinh)\n",
        "plt.show\n",
        "print('So nay la',train_labels[100])"
      ],
      "metadata": {
        "colab": {
          "base_uri": "https://localhost:8080/",
          "height": 282
        },
        "id": "EPkYB4v3040r",
        "outputId": "b9b0cf60-1c19-44c3-9db4-ecd4b899f679"
      },
      "execution_count": null,
      "outputs": [
        {
          "output_type": "stream",
          "name": "stdout",
          "text": [
            "So nay la 5\n"
          ]
        },
        {
          "output_type": "display_data",
          "data": {
            "text/plain": [
              "<Figure size 432x288 with 1 Axes>"
            ],
            "image/png": "[encoded data removed]"
          },
          "metadata": {
            "needs_background": "light"
          }
        }
      ]
    },
    {
      "cell_type": "code",
      "source": [
        "for i in range(10):\n",
        "  plt.subplot(3,5,i+1)\n",
        "  plt.tight_layout()\n",
        "  plt.imshow(train_images[i],cmap='gray',interpolation='none')\n",
        "  plt.title('so:{}'.format(train_labels[i]))\n",
        "  plt.xticks([])\n",
        "  plt.yticks([])"
      ],
      "metadata": {
        "colab": {
          "base_uri": "https://localhost:8080/",
          "height": 196
        },
        "id": "M6lDaxif1oG4",
        "outputId": "82bf9ebc-6f13-4bc7-860c-2baf81709c11"
      },
      "execution_count": null,
      "outputs": [
        {
          "output_type": "display_data",
          "data": {
            "text/plain": [
              "<Figure size 432x288 with 10 Axes>"
            ],
            "image/png": "[encoded data removed]"
          },
          "metadata": {}
        }
      ]
    },
    {
      "cell_type": "code",
      "source": [
        "from os import name\n",
        "from keras import models\n",
        "from keras.models import  Sequential\n",
        "from keras.layers import  Dense\n",
        "model=models.Sequential()\n",
        "model.add(Dense(512, input_shape=(28*28,), activation = 'relu'))\n",
        "model.add(Dense(1, activation = 'softmax'))\n",
        "model.summary()\n"
      ],
      "metadata": {
        "id": "6N4IGCtj3r37",
        "colab": {
          "base_uri": "https://localhost:8080/"
        },
        "outputId": "d03bae95-b239-4e5b-d375-56fef012dca7"
      },
      "execution_count": null,
      "outputs": [
        {
          "output_type": "stream",
          "name": "stdout",
          "text": [
            "Model: \"sequential_7\"\n",
            "_________________________________________________________________\n",
            " Layer (type)                Output Shape              Param #   \n",
            "=================================================================\n",
            " dense_5 (Dense)             (None, 512)               401920    \n",
            "                                                                 \n",
            " dense_6 (Dense)             (None, 1)                 513       \n",
            "                                                                 \n",
            "=================================================================\n",
            "Total params: 402,433\n",
            "Trainable params: 402,433\n",
            "Non-trainable params: 0\n",
            "_________________________________________________________________\n"
          ]
        }
      ]
    },
    {
      "cell_type": "code",
      "source": [
        "from keras.utils import to_categorical #lenh chuyen 2 chieu thanh 1 chieu \n",
        "\n",
        "train_images = train_images.reshape((60000, 28*28))\n",
        "train_image = train_images.astype('float32')/255\n",
        "\n",
        "test_images = test_images.reshape((10000, 28*28))\n",
        "test_image = test_images.astype('float32')/255\n",
        "\n",
        "train_label = to_categorical(train_labels, 10)\n",
        "test_label = to_categorical(test_labels, 10)\n",
        "#compile\n",
        "model.compile(optimizer = 'rmsprop', loss = 'categorical_crossentropy', metrics = 'accuracy') #bộ tối ưu 'rmsprop', mất mát 'categorical_crossentropy'\n",
        "\n",
        "#train\n",
        "model.fit(train_images, train_labels, epochs = 10, batch_size = 128) #lô học chỉ là 128 dữ liệu thôi (không học 60000 dữ liệu), học 10 lần -> mỗi lần học 128\n",
        "#đánh giá độ chính xác\n",
        "test_loss, test_acc = model.evaluate(test_images, test_labels)\n",
        "\n",
        "print('test_accuracy: ', test_acc)\n",
        "print('test_loss: ', test_loss)"
      ],
      "metadata": {
        "id": "uFDAmk3x77Yp",
        "colab": {
          "base_uri": "https://localhost:8080/"
        },
        "outputId": "77c26ec5-c752-4deb-bd58-7413f58a1745"
      },
      "execution_count": null,
      "outputs": [
        {
          "output_type": "stream",
          "name": "stdout",
          "text": [
            "Epoch 1/10\n",
            "469/469 [==============================] - 7s 14ms/step - loss: 0.0000e+00 - accuracy: 0.1124\n",
            "Epoch 2/10\n",
            "469/469 [==============================] - 7s 16ms/step - loss: 0.0000e+00 - accuracy: 0.1124\n",
            "Epoch 3/10\n",
            "469/469 [==============================] - 9s 19ms/step - loss: 0.0000e+00 - accuracy: 0.1124\n",
            "Epoch 4/10\n",
            "469/469 [==============================] - 7s 16ms/step - loss: 0.0000e+00 - accuracy: 0.1124\n",
            "Epoch 5/10\n",
            "469/469 [==============================] - 5s 11ms/step - loss: 0.0000e+00 - accuracy: 0.1124\n",
            "Epoch 6/10\n",
            "469/469 [==============================] - 7s 14ms/step - loss: 0.0000e+00 - accuracy: 0.1124\n",
            "Epoch 7/10\n",
            "469/469 [==============================] - 6s 12ms/step - loss: 0.0000e+00 - accuracy: 0.1124\n",
            "Epoch 8/10\n",
            "469/469 [==============================] - 8s 18ms/step - loss: 0.0000e+00 - accuracy: 0.1124\n",
            "Epoch 9/10\n",
            "469/469 [==============================] - 7s 14ms/step - loss: 0.0000e+00 - accuracy: 0.1124\n",
            "Epoch 10/10\n",
            "469/469 [==============================] - 6s 12ms/step - loss: 0.0000e+00 - accuracy: 0.1124\n",
            "313/313 [==============================] - 1s 3ms/step - loss: 0.0000e+00 - accuracy: 0.1135\n",
            "test_accuracy:  0.11349999904632568\n",
            "test_loss:  0.0\n"
          ]
        }
      ]
    },
    {
      "cell_type": "code",
      "source": [
        "model.save('model.h5')\n"
      ],
      "metadata": {
        "id": "3VJboSgKDVsU"
      },
      "execution_count": null,
      "outputs": []
    }
  ]
}